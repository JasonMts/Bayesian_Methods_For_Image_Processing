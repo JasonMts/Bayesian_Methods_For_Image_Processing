{
 "cells": [
  {
   "cell_type": "code",
   "execution_count": 12,
   "metadata": {},
   "outputs": [
    {
     "data": {
      "text/plain": [
       "<matplotlib.image.AxesImage at 0x7fac46419d30>"
      ]
     },
     "execution_count": 12,
     "metadata": {},
     "output_type": "execute_result"
    },
    {
     "data": {
      "image/png": "[encoded data removed]",
      "text/plain": [
       "<Figure size 432x288 with 3 Axes>"
      ]
     },
     "metadata": {
      "needs_background": "light"
     },
     "output_type": "display_data"
    }
   ],
   "source": [
    "import numpy as np\n",
    "import matplotlib.pyplot as plt\n",
    "import imageio\n",
    "# import scipy as sp\n",
    "# from matplotlib.pyplot import imread\n",
    "\n",
    "def add_gaussian_noise(im,prop,varSigma):\n",
    "    N = int(np.round(np.prod(im.shape)*prop))\n",
    "    index = np.unravel_index(np.random.permutation(np.prod(im.shape))[1:N],im.shape)\n",
    "    e = varSigma*np.random.randn(np.prod(im.shape)).reshape(im.shape)\n",
    "    im2 = np.copy(im).astype('float')\n",
    "    im2[index] += e[index]\n",
    "    return im2\n",
    "\n",
    "def add_saltnpeppar_noise(im,prop):\n",
    "    N = int(np.round(np.prod(im.shape)*prop))\n",
    "    index = np.unravel_index(np.random.permutation(np.prod(im.shape))[1:N],im.shape)\n",
    "    im2 = np.copy(im)\n",
    "    im2[index] = 1-im2[index]\n",
    "    return im2\n",
    "\n",
    "# proportion of pixels to alter\n",
    "prop = 0.1\n",
    "varSigma = 0.1\n",
    "im = imageio.imread('army2.png')\n",
    "im = im/255\n",
    "fig = plt.figure()\n",
    "ax = fig.add_subplot(131)\n",
    "ax.imshow(im,cmap='gray')\n",
    "im2 = add_gaussian_noise(im,prop,varSigma)\n",
    "ax2 = fig.add_subplot(132)\n",
    "ax2.imshow(im2,cmap='gray')\n",
    "im2 = add_saltnpeppar_noise(im,prop)\n",
    "ax3 = fig.add_subplot(133)\n",
    "ax3.imshow(im2,cmap='gray')"
   ]
  },
  {
   "cell_type": "code",
   "execution_count": 13,
   "metadata": {},
   "outputs": [],
   "source": [
    "\n",
    "def neighbours(i,j,M,N,size=4):\n",
    "    if size==4:\n",
    "        if (i==0 and j==0):\n",
    "            n=[(0,1), (1,0)]\n",
    "        elif i==0 and j==N-1:\n",
    "            n=[(0,N-2), (1,N-1)]\n",
    "        elif i==M-1 and j==0:\n",
    "            n=[(M-1,1), (M-2,0)]\n",
    "        elif i==M-1 and j==N-1:\n",
    "            n=[(M-1,N-2), (M-2,N-1)]\n",
    "        elif i==0:\n",
    "            n=[(0,j-1), (0,j+1), (1,j)]\n",
    "        elif i==M-1:\n",
    "            n=[(M-1,j-1), (M-1,j+1), (M-2,j)]\n",
    "        elif j==0:\n",
    "            n=[(i-1,0), (i+1,0), (i,1)]\n",
    "        elif j==N-1:\n",
    "            n=[(i-1,N-1), (i+1,N-1), (i,N-2)]\n",
    "        else:\n",
    "            n=[(i-1,j), (i+1,j), (i,j-1), (i,j+1)]\n",
    "        return n\n",
    "    if size==8:\n",
    "        print('Not yet implemented\\n')\n",
    "        return -1\n",
    "\n",
    "def neighborvalues(i, j, M, N, x, size = 4):\n",
    "    return list(map(lambda el: x[el[0], el[1]], neighbours(i, j, M, N, size)))\n",
    "    \n",
    "\n",
    "def energyfunction(x, neighbors, y, beta, ita):\n",
    "    return np.exp(beta*x * np.sum(neighbors) + ita*x*y)\n",
    "\n",
    "    \n",
    "M, N = im2.shape"
   ]
  },
  {
   "cell_type": "code",
   "execution_count": 14,
   "metadata": {},
   "outputs": [],
   "source": [
    "x = im2\n",
    "\n",
    "for i in range(x.shape[0]):\n",
    "    for j in range(x.shape[1]):\n",
    "        if x[i,j] == 0:\n",
    "            x[i,j] = -1\n",
    "            \n",
    "x\n",
    "beta = 1\n",
    "ita = 1"
   ]
  },
  {
   "cell_type": "code",
   "execution_count": 15,
   "metadata": {},
   "outputs": [],
   "source": [
    "    \n",
    "changed = false\n",
    "T = 100\n",
    "\n",
    "for t in range(T):\n",
    "        for i in range(x.shape[0]):\n",
    "            for j in range(x.shape[1]):\n",
    "#                 print(x[i,j])\n",
    "                neighbors = neighborvalues(i, j, M, N, x)\n",
    "                y = im2[i,j]\n",
    "                if energyfunction(1, neighbors, y, beta, ita) > energyfunction(0, neighbors, y, beta, ita):\n",
    "                    x[i,j] = 1\n",
    "                else:\n",
    "                    x[i,j] = -1\n",
    "            \n",
    "        \n",
    "        "
   ]
  },
  {
   "cell_type": "code",
   "execution_count": 16,
   "metadata": {},
   "outputs": [
    {
     "data": {
      "text/plain": [
       "<matplotlib.image.AxesImage at 0x7fac463899e8>"
      ]
     },
     "execution_count": 16,
     "metadata": {},
     "output_type": "execute_result"
    },
    {
     "data": {
      "image/png": "[encoded data removed]",
      "text/plain": [
       "<Figure size 432x288 with 1 Axes>"
      ]
     },
     "metadata": {
      "needs_background": "light"
     },
     "output_type": "display_data"
    }
   ],
   "source": [
    "fig = plt.figure()\n",
    "ax = fig.add_subplot(111)\n",
    "\n",
    "ax.imshow(x,cmap='gray')"
   ]
  }
 ],
 "metadata": {
  "kernelspec": {
   "display_name": "Python 3",
   "language": "python",
   "name": "python3"
  },
  "language_info": {
   "codemirror_mode": {
    "name": "ipython",
    "version": 3
   },
   "file_extension": ".py",
   "mimetype": "text/x-python",
   "name": "python",
   "nbconvert_exporter": "python",
   "pygments_lexer": "ipython3",
   "version": "3.6.5"
  },
  "varInspector": {
   "cols": {
    "lenName": 16,
    "lenType": 16,
    "lenVar": 40
   },
   "kernels_config": {
    "python": {
     "delete_cmd_postfix": "",
     "delete_cmd_prefix": "del ",
     "library": "var_list.py",
     "varRefreshCmd": "print(var_dic_list())"
    },
    "r": {
     "delete_cmd_postfix": ") ",
     "delete_cmd_prefix": "rm(",
     "library": "var_list.r",
     "varRefreshCmd": "cat(var_dic_list()) "
    }
   },
   "types_to_exclude": [
    "module",
    "function",
    "builtin_function_or_method",
    "instance",
    "_Feature"
   ],
   "window_display": true
  }
 },
 "nbformat": 4,
 "nbformat_minor": 1
}
